{
  "nbformat": 4,
  "nbformat_minor": 0,
  "metadata": {
    "colab": {
      "provenance": []
    },
    "kernelspec": {
      "name": "python3",
      "display_name": "Python 3"
    },
    "language_info": {
      "name": "python"
    }
  },
  "cells": [
    {
      "cell_type": "markdown",
      "source": [
        "1.  What is the difference between interpreted and compiled languages ?\n",
        "  \n",
        "  Compile languages in this code is translated entirely into machine code by a compiler before it is run. In this produces an executable file .Compiler translate once , run many times.\n",
        "\n",
        "  Interpreted language run code line by line , there is no any separate executable file , In this interpreter reads the source code directly at run time , it translate every time when it run .\n"
      ],
      "metadata": {
        "id": "xWJ-aQPrklrU"
      }
    },
    {
      "cell_type": "markdown",
      "source": [
        "2.  What is exception handling in Python?\n",
        "  \n",
        "  Exception handling in python is way to manage errors that occur during the execution of program , when errors occurs in python , program will stop execution, in exception handling method program will not stop it will handle the errors by using except block .\n"
      ],
      "metadata": {
        "id": "isLginNQmw5U"
      }
    },
    {
      "cell_type": "markdown",
      "source": [
        "3.  What is the purpose of the finally block in exception handling ?\n",
        "   \n",
        "   The finally block is to ensure that certain code runs no metter what happens whether an exception is thrown an error or not . It is definatly run even code thrown an error or not . This block always run after the try block .\n",
        "  \n"
      ],
      "metadata": {
        "id": "wYT1Lj4KoUPI"
      }
    },
    {
      "cell_type": "markdown",
      "source": [
        "4. What is logging in Python ?\n",
        "  \n",
        "   Python has a built-in module called logging that provides a flexible framework for writing log messages. It is powerful way to output information\n",
        "   that can help to manage debug .Logs can be written to the console, files, or even remote logging systems.\n",
        "\n",
        "\n",
        "\n",
        "\n"
      ],
      "metadata": {
        "id": "CwPss5aiqhIZ"
      }
    },
    {
      "cell_type": "markdown",
      "source": [
        "5. What is the significance of the __del__ method in Python ?\n",
        "  \n",
        "  This method used to clean up any resources  or break data network conncetion .\n",
        "  This method known as a destructor . The __del__ method is invoked when Python's garbage collector decides that the object is no longer in use and is about to be destroyed.\n"
      ],
      "metadata": {
        "id": "Zp867p8VsKzn"
      }
    },
    {
      "cell_type": "markdown",
      "source": [
        "6. What is the difference between import and from ... import in Python0 ?\n",
        "  \n",
        "  Import and from both are used to bring external modules in current files .The import statement allows you to import the entire module and then access its functions, classes, and variables by prefixing them with the module name.\n",
        "\n",
        "  From ... is used to import any specific function of the module .\n"
      ],
      "metadata": {
        "id": "BGT9ZRaUtShO"
      }
    },
    {
      "cell_type": "markdown",
      "source": [
        "7 . How can you handle multiple exceptions in Python?\n",
        "\n",
        "  Multiple exceptions handling in python  by using separate except blocks for each exception type. This allows you to handle each exception type differently.\n",
        "  You can catch all exceptions by using a generic except block without specifying an exception type. This is not recommended in most cases because it can make debugging harder by catching unexpected exceptions."
      ],
      "metadata": {
        "id": "KqD47YRbuafM"
      }
    },
    {
      "cell_type": "markdown",
      "source": [
        "8. What is the purpose of the with statement when handling files in Python?\n",
        "  \n",
        "  The with statement  is especially useful when dealing with files because it handles resource cleanup automatically, even if an error occurs while working with the file. There is no need to call the file . close() .In this automatically  file closed .\n"
      ],
      "metadata": {
        "id": "wqXjfOTpweRf"
      }
    },
    {
      "cell_type": "markdown",
      "source": [
        "9.What is the difference between multithreading and multiprocessing ?\n",
        "  \n",
        "  Multithreading and multiprocessing both are techniques used to achieve concurrent execution, Multithreading involves running multiple threads within a single process.\n",
        "\n",
        "  Multiprocessing are running multiple processes, each with its own Python interpreter ,Each process runs independently with its own memory space."
      ],
      "metadata": {
        "id": "cCrjqQjPxpN4"
      }
    },
    {
      "cell_type": "markdown",
      "source": [
        "10. What are the advantages of using logging in a program?\n",
        "   \n",
        "   Logging is especially useful in more complex, production-level applications.\n",
        "   it is making easy to filter and analyze logs based on the level of detail thats you need.\n",
        "   Using logging in your Python applications helps in creating more maintainable, reliable, and production-ready systems."
      ],
      "metadata": {
        "id": "2yOGmiz8y2KG"
      }
    },
    {
      "cell_type": "markdown",
      "source": [
        "11. What is memory management in Python?\n",
        "  \n",
        "  Lists, tuples, sets, and dictionaries are examples of built-in Python data structures. Each of these data structures has its own memory management.\n",
        "  python automatically allocates memory when an object is created .Python’s built-in data structures have different memory management strategies."
      ],
      "metadata": {
        "id": "Bu6p_UTM0Vf0"
      }
    },
    {
      "cell_type": "markdown",
      "source": [
        "12 .What are the basic steps involved in exception handling in Python ?\n",
        "\n",
        "  The try block is used to write the code that might raise an exception. If error occurs in this block the program will stop and error handled by except block .\n",
        "  The except block is used to catch and handle specific exceptions raised in the try block.\n",
        "  The else block is optional ."
      ],
      "metadata": {
        "id": "4jRsyd8q1knb"
      }
    },
    {
      "cell_type": "markdown",
      "source": [
        "13. Why is memory management important in Python?\n",
        "  \n",
        "  In Python, memory management ensures that the program uses system resources efficiently. Efficient memory usage ensures that Python programs run faster, especially in memory-intensive operations.Python offers tools and techniques like generators and memory profiling to help manage large data efficiently."
      ],
      "metadata": {
        "id": "bCLUQwVC2xN2"
      }
    },
    {
      "cell_type": "markdown",
      "source": [
        "14 .What is the role of try and except in exception handling ?\n",
        "\n",
        "  Try block used to occurs erros in code , in raised error . If no exception occurs in the try block, the code continues executing normally.\n",
        "\n",
        "  The except block is used to catch and handle exceptions , If an exception occurs in the try block, the except block is executed to handle the error gracefully."
      ],
      "metadata": {
        "id": "7mf5RF5A3jHN"
      }
    },
    {
      "cell_type": "markdown",
      "source": [
        "15 .How does Python's garbage collection system work ?\n",
        "\n",
        "  Python's garbage collection  system is responsible for automatically managing memory . It helps prevent  memory consumption by cleaning up objects that are no longer accessible in the program.Developers can control the garbage collection process using the gc module."
      ],
      "metadata": {
        "id": "E72Xc5EW4hCX"
      }
    },
    {
      "cell_type": "markdown",
      "source": [
        "16. What is the purpose of the else block in exception handling ?\n",
        "\n",
        "  The else block contains code that should run if no exception occurs in the try block. If the code inside the try block executes without throwing an exception, the else block is executed next."
      ],
      "metadata": {
        "id": "_URZe6yR5ii1"
      }
    },
    {
      "cell_type": "markdown",
      "source": [
        "17 .What are the common logging levels in Python?\n",
        "\n",
        "   Debug is Used for low-level system information for debugging purposes.\n",
        "   info is used to confirm that things are working as expected.warning is Indicates a potential problem or something unexpected that doesn’t stop the program.\n"
      ],
      "metadata": {
        "id": "DjOIN8Ke575W"
      }
    },
    {
      "cell_type": "markdown",
      "source": [
        "18 .What is the difference between os.fork() and multiprocessing in Python?\n",
        "\n",
        "  Os.fork() available only on UNIX-like systems and not available on Windows.It is Low-level system call that creates a child process by duplicating the current process.\n",
        "\n",
        "  Multiprocessing modules are High-level abstraction built into Python's standard library. Works on both UNIX-like systems and Windows."
      ],
      "metadata": {
        "id": "Ff9HKGIO6quS"
      }
    },
    {
      "cell_type": "markdown",
      "source": [
        "19. What is the importance of closing a file in Python?\n",
        "\n",
        "  In python close a file by  by calling the close() method or by using the with statement .When you open a file in Python by file.open() , it is essential to close the file after you are done working with it."
      ],
      "metadata": {
        "id": "I9ncsckQ7qzP"
      }
    },
    {
      "cell_type": "markdown",
      "source": [
        "20 .What is the difference between file.read() and file.readline() in Python?\n",
        "\n",
        " In python read() and readline() both are methods used to read data from a file\n",
        " File.read() reads the entire file or a specified number of bytes/characters.If called without any argument, it reads the whole file into a single string.\n",
        " file.readline() reads only a single line from the file at a time. It is useful when reading a file line by line.\n",
        "\n",
        "\n"
      ],
      "metadata": {
        "id": "I8lqCl8d8O8_"
      }
    },
    {
      "cell_type": "markdown",
      "source": [
        "21.  What is the logging module in Python used for?\n",
        "\n",
        "  The logging module in python is a built-in library used to record messages .\n",
        "  In this identify and fix issues by logging detailed messages during development or troubleshooting.\n"
      ],
      "metadata": {
        "id": "STR986NF9ayE"
      }
    },
    {
      "cell_type": "markdown",
      "source": [
        "22 .What is the os module in Python used for in file handling ?\n",
        "  \n",
        "  The os module is part of Python's standard library that provides a way to interact with operating system . Automates file and directory management.\n"
      ],
      "metadata": {
        "id": "Nsm1PG97-Cbs"
      }
    },
    {
      "cell_type": "markdown",
      "source": [
        "23. What are the challenges associated with memory management in Python?\n",
        "\n",
        "Python does a lot of memory management for you through its built-in garbage collector and dynamic memory allocation .Data structures like dictionaries and lists have internal overhead.\n",
        "Applications with large datasets may consume excessive RAM if not handled efficiently.\n",
        "\n"
      ],
      "metadata": {
        "id": "pz5EsyTY-qL1"
      }
    },
    {
      "cell_type": "markdown",
      "source": [
        "24.  How do you raise an exception manually in Python ?\n",
        "\n",
        " The raise is a keyword for rasing error in the code . In Python, you can manually raise an exception using the raise keyword."
      ],
      "metadata": {
        "id": "KsMAqgqS_g-M"
      }
    },
    {
      "cell_type": "markdown",
      "source": [
        "25 .Why is it important to use multithreading in certain applications?\n",
        "\n",
        " Multithreading allows a program to run multiple threads concurrently, enabling better performance and responsiveness in certain types of applications.\n",
        "\n"
      ],
      "metadata": {
        "id": "m2JrCj6EAGR3"
      }
    },
    {
      "cell_type": "code",
      "source": [
        "#1. How can you open a file for writing in Python and write a string to it\n",
        "f = open('example.txt', 'w')\n",
        "f.write(\"Hello, this is another string.\")\n",
        "f.close()\n"
      ],
      "metadata": {
        "id": "Dxv62RS8AYe7"
      },
      "execution_count": 1,
      "outputs": []
    },
    {
      "cell_type": "code",
      "source": [
        "#2.Write a Python program to read the contents of a file and print each line\n",
        "file = open('example.txt', 'r')\n",
        "for line in file:\n",
        "    print(line.strip())\n",
        "\n",
        "file.close()\n",
        "\n"
      ],
      "metadata": {
        "colab": {
          "base_uri": "https://localhost:8080/"
        },
        "id": "fI2nosiVBUki",
        "outputId": "fc3aecef-918a-4c71-f1bc-afcae52c903b"
      },
      "execution_count": 2,
      "outputs": [
        {
          "output_type": "stream",
          "name": "stdout",
          "text": [
            "Hello, this is another string.\n"
          ]
        }
      ]
    },
    {
      "cell_type": "code",
      "source": [
        "#3.How would you handle a case where the file doesn't exist while trying to open it for reading\n",
        "try:\n",
        "    file = open('nonexistent_file.txt', 'r')\n",
        "    for line in file:\n",
        "        print(line.strip())\n",
        "    file.close()\n",
        "except FileNotFoundError:\n",
        "    print(\"Error: The file does not exist!\")\n"
      ],
      "metadata": {
        "colab": {
          "base_uri": "https://localhost:8080/"
        },
        "id": "Rpy8wAmdCEpw",
        "outputId": "ac9cc044-c5c3-41d9-edee-ff1ff6a76633"
      },
      "execution_count": 3,
      "outputs": [
        {
          "output_type": "stream",
          "name": "stdout",
          "text": [
            "Error: The file does not exist!\n"
          ]
        }
      ]
    },
    {
      "cell_type": "code",
      "source": [
        "#4.Write a Python script that reads from one file and writes its content to another file\n",
        "\n",
        "\n"
      ],
      "metadata": {
        "id": "XIrvBuKrCXxZ"
      },
      "execution_count": 6,
      "outputs": []
    },
    {
      "cell_type": "code",
      "source": [
        "#5.How would you catch and handle division by zero error in Python\n",
        "try:\n",
        "    num = 10\n",
        "    denom = 0\n",
        "    result = num / denom\n",
        "    print(\"Result:\", result)\n",
        "except ZeroDivisionError:\n",
        "    print(\"Error: Division by zero is not allowed.\")\n"
      ],
      "metadata": {
        "colab": {
          "base_uri": "https://localhost:8080/"
        },
        "id": "eVdk-vf9DKlU",
        "outputId": "69ffc7ae-3af0-425b-fc2a-a9d5d72d0c9a"
      },
      "execution_count": 7,
      "outputs": [
        {
          "output_type": "stream",
          "name": "stdout",
          "text": [
            "Error: Division by zero is not allowed.\n"
          ]
        }
      ]
    },
    {
      "cell_type": "code",
      "source": [
        "#6. Write a Python program that logs an error message to a log file when a division by zero exception occurs\n",
        "import logging\n",
        "logging.basicConfig(filename='error_log.txt', level=logging.ERROR, format='%(asctime)s - %(levelname)s - %(message)s')\n",
        "\n",
        "try:\n",
        "    num = 10\n",
        "    denom = 0\n",
        "    result = num / denom\n",
        "except ZeroDivisionError as e:\n",
        "    logging.error(\"Division by zero error occurred: %s\", e)\n",
        "    print(\"An error occurred. Check 'error_log.txt' for details.\")\n"
      ],
      "metadata": {
        "colab": {
          "base_uri": "https://localhost:8080/"
        },
        "id": "kJhBWn6NDX8x",
        "outputId": "0e246430-9692-4ca0-ab86-7e1eab173e73"
      },
      "execution_count": 8,
      "outputs": [
        {
          "output_type": "stream",
          "name": "stderr",
          "text": [
            "ERROR:root:Division by zero error occurred: division by zero\n"
          ]
        },
        {
          "output_type": "stream",
          "name": "stdout",
          "text": [
            "An error occurred. Check 'error_log.txt' for details.\n"
          ]
        }
      ]
    },
    {
      "cell_type": "code",
      "source": [
        "#7. How do you log information at different levels (INFO, ERROR, WARNING) in Python using the logging module\n",
        "import logging\n",
        "logging.basicConfig(filename='app_log.txt', level=logging.DEBUG, format='%(asctime)s - %(levelname)s - %(message)s')\n",
        "logging.debug(\"This is a DEBUG message.\")\n",
        "logging.info(\"This is an INFO message.\")\n",
        "logging.warning(\"This is a WARNING message.\")\n",
        "logging.error(\"This is an ERROR message.\")\n",
        "logging.critical(\"This is a CRITICAL message.\")\n"
      ],
      "metadata": {
        "colab": {
          "base_uri": "https://localhost:8080/"
        },
        "id": "_2cG7juGDze6",
        "outputId": "5a78acd6-8104-43ec-a2d6-fff6a1f94378"
      },
      "execution_count": 10,
      "outputs": [
        {
          "output_type": "stream",
          "name": "stderr",
          "text": [
            "WARNING:root:This is a WARNING message.\n",
            "ERROR:root:This is an ERROR message.\n",
            "CRITICAL:root:This is a CRITICAL message.\n"
          ]
        }
      ]
    },
    {
      "cell_type": "code",
      "source": [
        "#8.Write a program to handle a file opening error using exception handling\n",
        "try:\n",
        "    file = open('nonexistent_file.txt', 'r')\n",
        "    content = file.read()\n",
        "    print(content)\n",
        "    file.close()\n",
        "except FileNotFoundError:\n",
        "    print(\"Error: The file was not found.\")\n",
        "except PermissionError:\n",
        "    print(\"Error: You do not have permission to open this file.\")\n",
        "except Exception as e:\n",
        "    print(f\"An unexpected error occurred: {e}\")\n"
      ],
      "metadata": {
        "colab": {
          "base_uri": "https://localhost:8080/"
        },
        "id": "gRhoidYRER3m",
        "outputId": "9312d8be-6e2c-4ccc-aefd-53390ba9a2c2"
      },
      "execution_count": 13,
      "outputs": [
        {
          "output_type": "stream",
          "name": "stdout",
          "text": [
            "Error: The file was not found.\n"
          ]
        }
      ]
    },
    {
      "cell_type": "code",
      "source": [
        "#9.How can you read a file line by line and store its content in a list in Python?\n",
        "file = open('example.txt', 'r')\n",
        "lines = []\n",
        "for line in file:\n",
        "    lines.append(line.strip())\n",
        "file.close()\n",
        "print(lines)\n"
      ],
      "metadata": {
        "colab": {
          "base_uri": "https://localhost:8080/"
        },
        "id": "tBHCCwEUEuWt",
        "outputId": "f21ee843-2955-4ebe-b3b3-7fd767c217dc"
      },
      "execution_count": 16,
      "outputs": [
        {
          "output_type": "stream",
          "name": "stdout",
          "text": [
            "['Hello, this is another string.']\n"
          ]
        }
      ]
    },
    {
      "cell_type": "code",
      "source": [
        "#10.How can you append data to an existing file in Python\n",
        "file = open('sample.txt', 'a')\n",
        "file.write(\"This is a new line appended to the file.\\n\")\n",
        "file.close()\n"
      ],
      "metadata": {
        "id": "vvfoVreUFFOd"
      },
      "execution_count": 18,
      "outputs": []
    },
    {
      "cell_type": "code",
      "source": [
        "#11.Write a Python program that uses a try-except block to handle an error when attempting to access a\n",
        "#dictionary key that doesn't exist\n",
        "my_dict = {\n",
        "    'name': 'Alice',\n",
        "    'age': 25\n",
        "}\n",
        "\n",
        "try:\n",
        "    value = my_dict['address']\n",
        "    print(\"Address:\", value)\n",
        "except KeyError:\n",
        "    print(\"Error: The key 'address' does not exist in the dictionary.\")\n"
      ],
      "metadata": {
        "colab": {
          "base_uri": "https://localhost:8080/"
        },
        "id": "p3csUD-MFdv4",
        "outputId": "4e014182-b811-4faf-8a50-8a49bd81bc29"
      },
      "execution_count": 19,
      "outputs": [
        {
          "output_type": "stream",
          "name": "stdout",
          "text": [
            "Error: The key 'address' does not exist in the dictionary.\n"
          ]
        }
      ]
    },
    {
      "cell_type": "code",
      "source": [
        "#12. Write a program that demonstrates using multiple except blocks to handle different types of exceptions\n",
        "try:\n",
        "    num1 = int(input(\"Enter the first number: \"))\n",
        "    num2 = int(input(\"Enter the second number: \"))\n",
        "    result = num1 / num2\n",
        "    print(\"Result:\", result)\n",
        "    my_list = [1, 2, 3]\n",
        "    print(\"Fourth element in list:\", my_list[3])\n",
        "except ZeroDivisionError:\n",
        "    print(\"Error: Cannot divide by zero.\")\n",
        "except ValueError:\n",
        "    print(\"Error: Invalid input. Please enter numeric values only.\")\n",
        "except IndexError:\n",
        "    print(\"Error: List index out of range.\")\n",
        "except Exception as e:\n",
        "    print(f\"An unexpected error occurred: {e}\")\n"
      ],
      "metadata": {
        "colab": {
          "base_uri": "https://localhost:8080/"
        },
        "id": "BdV1Qj-NGg8v",
        "outputId": "64a67cea-0001-4a83-e752-4cb883e312ba"
      },
      "execution_count": 20,
      "outputs": [
        {
          "output_type": "stream",
          "name": "stdout",
          "text": [
            "Enter the first number: 3\n",
            "Enter the second number: 4\n",
            "Result: 0.75\n",
            "Error: List index out of range.\n"
          ]
        }
      ]
    },
    {
      "cell_type": "code",
      "source": [
        "#13.How would you check if a file exists before attempting to read it in Python\n",
        "import os\n",
        "file_path = 'example.txt'\n",
        "if os.path.exists(file_path):\n",
        "    with open(file_path, 'r') as file:\n",
        "        content = file.read()\n",
        "        print(content)\n",
        "else:\n",
        "    print(\"The file does not exist.\")\n"
      ],
      "metadata": {
        "colab": {
          "base_uri": "https://localhost:8080/"
        },
        "id": "05MH1JoQG6V6",
        "outputId": "38a6464f-3b56-4f21-c07c-4ba58b6d5068"
      },
      "execution_count": 22,
      "outputs": [
        {
          "output_type": "stream",
          "name": "stdout",
          "text": [
            "Hello, this is another string.This is a new line appended to the file.\n",
            "\n"
          ]
        }
      ]
    },
    {
      "cell_type": "code",
      "source": [
        "#14.Write a program that uses the logging module to log both informational and error messages\n",
        "import logging\n",
        "logging.basicConfig(\n",
        "    filename='app_log.txt',\n",
        "    level=logging.DEBUG,\n",
        "    format='%(asctime)s - %(levelname)s - %(message)s'\n",
        ")\n",
        "logging.info(\"Program started successfully.\")\n",
        "try:\n",
        "    num1 = 10\n",
        "    num2 = 0\n",
        "    result = num1 / num2\n",
        "except ZeroDivisionError as e:\n",
        "    logging.error(\"Error occurred: Division by zero. %s\", e)\n",
        "else:\n",
        "    logging.info(\"Division result: %s\", result)\n",
        "logging.info(\"Program finished.\")\n"
      ],
      "metadata": {
        "colab": {
          "base_uri": "https://localhost:8080/"
        },
        "id": "ZaqdjZ0fHPGv",
        "outputId": "c33cf189-98e3-470c-f4d4-16bc60580a8f"
      },
      "execution_count": 24,
      "outputs": [
        {
          "output_type": "stream",
          "name": "stderr",
          "text": [
            "ERROR:root:Error occurred: Division by zero. division by zero\n"
          ]
        }
      ]
    },
    {
      "cell_type": "code",
      "source": [
        "#15.Write a Python program that prints the content of a file and handles the case when the file is empty\n",
        "def print_file_content(file_path):\n",
        "    try:\n",
        "        with open(file_path, 'r') as file:\n",
        "            content = file.read()\n",
        "            if content.strip() == '':\n",
        "                print(\"The file is empty.\")\n",
        "            else:\n",
        "                print(\"File content:\")\n",
        "                print(content)\n",
        "    except FileNotFoundError:\n",
        "        print(\"Error: The file does not exist.\")\n",
        "    except Exception as e:\n",
        "        print(f\"An unexpected error occurred: {e}\")\n",
        "print_file_content('example.txt')\n"
      ],
      "metadata": {
        "colab": {
          "base_uri": "https://localhost:8080/"
        },
        "id": "uJauha3oHv-B",
        "outputId": "e9fafd3f-9e66-4e38-9bb8-5126d33d0605"
      },
      "execution_count": 26,
      "outputs": [
        {
          "output_type": "stream",
          "name": "stdout",
          "text": [
            "File content:\n",
            "Hello, this is another string.This is a new line appended to the file.\n",
            "\n"
          ]
        }
      ]
    },
    {
      "cell_type": "code",
      "source": [
        "#16.Demonstrate how to use memory profiling to check the memory usage of a small program\n"
      ],
      "metadata": {
        "id": "Ud9wcEQAIB1e"
      },
      "execution_count": 28,
      "outputs": []
    },
    {
      "cell_type": "code",
      "source": [
        "#17. Write a Python program to create and write a list of numbers to a file, one number per line\n",
        "numbers = [1, 2, 3, 4, 5, 6, 7, 8, 9, 10]\n",
        "file = open('numbers.txt', 'w')\n",
        "for number in numbers:\n",
        "    file.write(f\"{number}\\n\")\n",
        "file.close()\n",
        "print(\"Numbers have been written to numbers.txt\")"
      ],
      "metadata": {
        "colab": {
          "base_uri": "https://localhost:8080/"
        },
        "id": "47ihbKRrIj2d",
        "outputId": "83419a9a-1bf5-40ac-9b41-e5e5a9151ead"
      },
      "execution_count": 31,
      "outputs": [
        {
          "output_type": "stream",
          "name": "stdout",
          "text": [
            "Numbers have been written to numbers.txt\n"
          ]
        }
      ]
    },
    {
      "cell_type": "code",
      "source": [
        "#18.How would you implement a basic logging setup that logs to a file with rotation after 1MB\n",
        "\n"
      ],
      "metadata": {
        "id": "4-92ct9RI-C-"
      },
      "execution_count": 34,
      "outputs": []
    },
    {
      "cell_type": "code",
      "source": [
        "#19.Write a program that handles both IndexError and KeyError using a try-except block\n",
        "my_list = [10, 20, 30]\n",
        "my_dict = {'name': 'Alice', 'age': 25}\n",
        "\n",
        "try:\n",
        "    print(\"List item:\", my_list[5])\n",
        "    print(\"Address:\", my_dict['address'])\n",
        "\n",
        "except IndexError:\n",
        "    print(\"Error: List index out of range.\")\n",
        "except KeyError:\n",
        "    print(\"Error: The key does not exist in the dictionary.\")\n"
      ],
      "metadata": {
        "colab": {
          "base_uri": "https://localhost:8080/"
        },
        "id": "Ww7Yx3vaKJmo",
        "outputId": "fe812cc6-f693-4119-d0ef-e077d193b135"
      },
      "execution_count": 36,
      "outputs": [
        {
          "output_type": "stream",
          "name": "stdout",
          "text": [
            "Error: List index out of range.\n"
          ]
        }
      ]
    },
    {
      "cell_type": "code",
      "source": [
        "#20.How would you open a file and read its contents using a context manager in Python\n",
        "file_path = 'example.txt'\n",
        "with open(file_path, 'r') as file:\n",
        "    content = file.read()\n",
        "    print(content)\n"
      ],
      "metadata": {
        "colab": {
          "base_uri": "https://localhost:8080/"
        },
        "id": "zUPzIK4QKz5T",
        "outputId": "04d96f83-f5bc-45b1-eadf-53c6444119b8"
      },
      "execution_count": 37,
      "outputs": [
        {
          "output_type": "stream",
          "name": "stdout",
          "text": [
            "Hello, this is another string.This is a new line appended to the file.\n",
            "\n"
          ]
        }
      ]
    },
    {
      "cell_type": "code",
      "source": [
        "#21.Write a Python program that reads a file and prints the number of occurrences of a specific word\n",
        "def count_word_occurrences(file_path, target_word):\n",
        "    count = 0\n",
        "    try:\n",
        "        with open(file_path, 'r') as file:\n",
        "            for line in file:\n",
        "\n",
        "                words = line.lower().split()\n",
        "                count += words.count(target_word.lower())\n",
        "        print(f\"The word '{target_word}' occurs {count} times in the file.\")\n",
        "    except FileNotFoundError:\n",
        "        print(\"Error: The file does not exist.\")\n",
        "    except Exception as e:\n",
        "        print(f\"An unexpected error occurred: {e}\")\n",
        "count_word_occurrences('example.txt', 'python')\n",
        "\n"
      ],
      "metadata": {
        "colab": {
          "base_uri": "https://localhost:8080/"
        },
        "id": "e8iO5dNbLCaa",
        "outputId": "241aa10d-7eac-4bfb-db79-0330029b4e8f"
      },
      "execution_count": 40,
      "outputs": [
        {
          "output_type": "stream",
          "name": "stdout",
          "text": [
            "The word 'python' occurs 0 times in the file.\n"
          ]
        }
      ]
    },
    {
      "cell_type": "code",
      "source": [
        "#22.How can you check if a file is empty before attempting to read its contents\n",
        "import os\n",
        "\n",
        "file_path = 'example.txt'\n",
        "if os.path.exists(file_path):\n",
        "    if os.path.getsize(file_path) == 0:\n",
        "        print(\"The file is empty.\")\n",
        "    else:\n",
        "        with open(file_path, 'r') as file:\n",
        "            content = file.read()\n",
        "            print(content)\n",
        "else:\n",
        "    print(\"The file does not exist.\")\n"
      ],
      "metadata": {
        "colab": {
          "base_uri": "https://localhost:8080/"
        },
        "id": "PmqQxwJjLfT0",
        "outputId": "78f610f8-c1d4-4638-da02-be32fd5ce1e7"
      },
      "execution_count": 41,
      "outputs": [
        {
          "output_type": "stream",
          "name": "stdout",
          "text": [
            "Hello, this is another string.This is a new line appended to the file.\n",
            "\n"
          ]
        }
      ]
    },
    {
      "cell_type": "code",
      "source": [
        "#23.Write a Python program that writes to a log file when an error occurs during file handling\n",
        "import logging\n",
        "logging.basicConfig(\n",
        "    filename='file_handling.log',\n",
        "    level=logging.ERROR,\n",
        "    format='%(asctime)s - %(levelname)s - %(message)s'\n",
        ")\n",
        "file_path = 'non_existent_example.txt'\n",
        "\n",
        "try:\n",
        "    with open(file_path, 'r') as file:\n",
        "        content = file.read()\n",
        "        print(content)\n",
        "except FileNotFoundError as e:\n",
        "    logging.error(f\"FileNotFoundError: {e}\")\n",
        "    print(\"Error: The file does not exist.\")\n",
        "except Exception as e:\n",
        "    logging.error(f\"Unhandled exception: {e}\")\n",
        "    print(\"An unexpected error occurred.\")\n"
      ],
      "metadata": {
        "colab": {
          "base_uri": "https://localhost:8080/"
        },
        "id": "yrkUB7VZLtjQ",
        "outputId": "4de6c6c6-ddd6-4d1c-c269-39961b3e692a"
      },
      "execution_count": 43,
      "outputs": [
        {
          "output_type": "stream",
          "name": "stderr",
          "text": [
            "ERROR:root:FileNotFoundError: [Errno 2] No such file or directory: 'non_existent_example.txt'\n"
          ]
        },
        {
          "output_type": "stream",
          "name": "stdout",
          "text": [
            "Error: The file does not exist.\n"
          ]
        }
      ]
    }
  ]
}